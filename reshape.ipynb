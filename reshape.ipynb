{
 "nbformat": 4,
 "nbformat_minor": 2,
 "metadata": {
  "language_info": {
   "name": "python",
   "codemirror_mode": {
    "name": "ipython",
    "version": 3
   },
   "version": "3.7.3"
  },
  "orig_nbformat": 2,
  "file_extension": ".py",
  "mimetype": "text/x-python",
  "name": "python",
  "npconvert_exporter": "python",
  "pygments_lexer": "ipython3",
  "version": 3
 },
 "cells": [
  {
   "cell_type": "code",
   "execution_count": 2,
   "metadata": {},
   "outputs": [
    {
     "name": "stdout",
     "output_type": "stream",
     "text": "(10, 4)\n4\n"
    }
   ],
   "source": [
    "import numpy as np\n",
    "data = [i for i in range(20)]\n",
    "x = []\n",
    "\n",
    "for i in range(10):\n",
    "    x_valu = data[i : i+4]    #連続したmax_len個の値\n",
    "        \n",
    "    x.append(x_valu)    #入力変数ベクトル\n",
    "\n",
    "print(np.array(x).shape)\n",
    "x = np.array(x).reshape(10, 4, 1)\n",
    "print(x.shape[1])"
   ]
  }
 ]
}